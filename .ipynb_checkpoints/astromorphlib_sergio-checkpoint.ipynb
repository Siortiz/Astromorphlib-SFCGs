{
 "cells": [
  {
   "cell_type": "code",
   "execution_count": null,
   "id": "846de936-bb03-40c9-bfad-8e7b11c04913",
   "metadata": {},
   "outputs": [],
   "source": [
    "import numpy as np\n",
    "from astropy.table import Table\n",
    "import stat_lib as SL\n",
    "import splusdata\n",
    "from astropy.io import fits"
   ]
  },
  {
   "cell_type": "markdown",
   "id": "a41287cd-aa9b-43d9-8c04-41879cdfc273",
   "metadata": {},
   "source": [
    "# Read the input file"
   ]
  },
  {
   "cell_type": "code",
   "execution_count": null,
   "id": "4ec3b86c-0fa4-4b0d-b475-d2d171afb1cc",
   "metadata": {},
   "outputs": [],
   "source": [
    "tab =Table.read('tres_grupos.csv', format='csv')"
   ]
  },
  {
   "cell_type": "markdown",
   "id": "20c69eeb-b7eb-45b0-84f1-a21251009bb3",
   "metadata": {},
   "source": [
    "## Connect to the S-PLUS cloud by entering your username and password."
   ]
  },
  {
   "cell_type": "code",
   "execution_count": null,
   "id": "c6513d09-8ba7-4a79-9007-57877ea2cc38",
   "metadata": {},
   "outputs": [],
   "source": [
    "conn = splusdata.Core()"
   ]
  },
  {
   "cell_type": "code",
   "execution_count": null,
   "id": "4ed6ffb2-9454-463c-ba89-a5371de0fccc",
   "metadata": {},
   "outputs": [],
   "source": []
  },
  {
   "cell_type": "markdown",
   "id": "73bc7a4b-f0b9-4a61-82a9-5f48869ee1c0",
   "metadata": {},
   "source": [
    "# Run for LEGACY"
   ]
  },
  {
   "cell_type": "markdown",
   "id": "1a99821e-2873-4356-8876-ba22a231efa7",
   "metadata": {},
   "source": [
    "## Parameters of the code  to fit the images using LEGACY data"
   ]
  },
  {
   "cell_type": "code",
   "execution_count": null,
   "id": "548e9c72-f378-4af2-805d-3ded3bf311ac",
   "metadata": {
    "scrolled": true
   },
   "outputs": [],
   "source": [
    "SL.ex_phot_mod_decals?"
   ]
  },
  {
   "cell_type": "markdown",
   "id": "fb8be4b6-edf6-467f-a188-9172557731a8",
   "metadata": {},
   "source": [
    "## Fitting the image in the r band to obtain a star mask"
   ]
  },
  {
   "cell_type": "code",
   "execution_count": null,
   "id": "554ef69c-9ebc-4987-9dd7-d29b45a80c2b",
   "metadata": {},
   "outputs": [],
   "source": [
    "#This field contains some red stars, which are difficult to mask in the g-band. Therefore, we first fitted the data using an r-band image to create a better star mask. \n",
    "#Afterward, we used this star mask (from the r-band) to fit the g-band image.\n",
    "\n",
    "\n",
    "output=SL.ex_phot_mod_decals(tab['GAL'][0], tab, size_image_phy=30, snr = 2.5, \n",
    "                             area_min=0.5, sky_box = [15,15], area_min_deblend=1,deblend='off',\n",
    "                             band='r', roundhi=0.5, roundlo=-0.5, run_auto='yes', threshold=5,aper_center=50,\n",
    "                             show_plot='yes', plot_model='no', mask_stars='yes')"
   ]
  },
  {
   "cell_type": "markdown",
   "id": "a9052e17-4fe6-48d8-8a38-e92efd5787c3",
   "metadata": {},
   "source": [
    "## Fitting the earlier object in the g-band image using the mask produced from the r-band image"
   ]
  },
  {
   "cell_type": "code",
   "execution_count": null,
   "id": "b803f522-87ac-43a5-a775-44d278766c96",
   "metadata": {
    "scrolled": false
   },
   "outputs": [],
   "source": [
    "output=SL.ex_phot_mod_decals(tab['GAL'][0], tab, size_image_phy=30, snr = 2.5, \n",
    "                             area_min=0.5, sky_box = [15,15], area_min_deblend=1,deblend='off',\n",
    "                             band='g', roundhi=0.5, roundlo=-0.5, run_auto='yes', threshold=5,aper_center=50,\n",
    "                             show_plot='yes', plot_model='no', mask_stars='fits_images/A_r_30kpc_mask_stars.fits')"
   ]
  },
  {
   "cell_type": "code",
   "execution_count": null,
   "id": "95100308-de31-43ce-9ee4-ce04bc47be03",
   "metadata": {},
   "outputs": [],
   "source": [
    "output=SL.ex_phot_mod_decals(tab['GAL'][1], tab, size_image_phy=30, snr = 2.5, \n",
    "                             area_min=0.5, sky_box = [15,15], area_min_deblend=1,deblend='off',\n",
    "                             band='g', roundhi=0.5, roundlo=-0.5, run_auto='yes', threshold=10,\n",
    "                             show_plot='yes', plot_model='no', mask_stars='yes')"
   ]
  },
  {
   "cell_type": "code",
   "execution_count": null,
   "id": "7ab4ad39-b072-4488-8857-0540a89167a5",
   "metadata": {},
   "outputs": [],
   "source": [
    "output=SL.ex_phot_mod_decals(tab['GAL'][2], tab, size_image_phy=50, snr = 2.5, \n",
    "                             area_min=25, sky_box = [10,10], area_min_deblend=1,deblend='off',\n",
    "                             band='r', roundhi=0.5, roundlo=-0.5, run_auto='yes', threshold=6, aper_center=30,\n",
    "                             show_plot='yes', plot_model='no', mask_stars='yes')"
   ]
  },
  {
   "cell_type": "code",
   "execution_count": null,
   "id": "b2284256-18f5-4357-9595-118e2777b9ea",
   "metadata": {},
   "outputs": [],
   "source": [
    "##Format for the program to identify which object will be fitted (read from the input table):\n",
    "##    tab['GAL'][2] - Position in the line, or\n",
    "##    tab['C'] - Name of the object as designated in the GAL column"
   ]
  },
  {
   "cell_type": "code",
   "execution_count": null,
   "id": "4205f39d-0c80-4346-b082-60f3f1aff678",
   "metadata": {},
   "outputs": [],
   "source": [
    "output=SL.ex_phot_mod_decals(tab['GAL'][2], tab, size_image_phy=50, snr = 2.5, \n",
    "                             area_min=25, sky_box = [10,10], area_min_deblend=1,deblend='off',\n",
    "                             band='g', roundhi=0.5, roundlo=-0.5, run_auto='yes', threshold=6, aper_center=30,\n",
    "                             show_plot='yes', plot_model='no', mask_stars='fits_images/C_r_50kpc_mask_stars.fits')"
   ]
  },
  {
   "cell_type": "code",
   "execution_count": null,
   "id": "7afd9795-af51-487e-92bf-0d166ab27537",
   "metadata": {},
   "outputs": [],
   "source": [
    "output=SL.ex_phot_mod_decals('C', tab, size_image_phy=50, snr = 2.5, \n",
    "                             area_min=25, sky_box = [10,10], area_min_deblend=1,deblend='off',\n",
    "                             band='g', roundhi=0.5, roundlo=-0.5, run_auto='yes', threshold=6, aper_center=30,\n",
    "                             show_plot='yes', plot_model='no', mask_stars='fits_images/C_r_50kpc_mask_stars.fits')"
   ]
  },
  {
   "cell_type": "markdown",
   "id": "17cbf692-60c5-492c-91df-5f41c0cea8ee",
   "metadata": {},
   "source": [
    "## Running  automatically "
   ]
  },
  {
   "cell_type": "code",
   "execution_count": null,
   "id": "ec7688b0-ff69-486a-9c92-e61febf95c87",
   "metadata": {},
   "outputs": [],
   "source": [
    "for i, GAL in enumerate(tab['GAL'][0:2]):\n",
    "    print ('\\n##############')\n",
    "    print (i, GAL)\n",
    "    try:\n",
    "         output=SL.ex_phot_mod_decals(GAL, tab, size_image_phy=30, band='g', \n",
    "                                      snr = 2.5, area_min=5, deblend='on', area_min_deblend=5, \n",
    "                                      sky_box = [5,5], \n",
    "                                      mask_stars='yes', roundhi=0.5, roundlo=-0.5, \n",
    "                                      run_auto='yes', show_plot='yes')\n",
    "        \n",
    "    except:\n",
    "        print ('something was wrong')\n",
    "        gal_norun.append(GAL)"
   ]
  },
  {
   "cell_type": "markdown",
   "id": "fee377da-fea9-46fc-b198-eacdd6e84097",
   "metadata": {},
   "source": [
    "# Run for SPLUS"
   ]
  },
  {
   "cell_type": "markdown",
   "id": "f15f41a7-0d7b-49fa-a05a-74d2d6419c1e",
   "metadata": {},
   "source": [
    "##  Parameters of the code  to fit the images using SPLUS data"
   ]
  },
  {
   "cell_type": "code",
   "execution_count": null,
   "id": "37bbed20-66bf-4330-bfb8-6aa7485b9cf0",
   "metadata": {},
   "outputs": [],
   "source": [
    "SL.ex_phot_mod?"
   ]
  },
  {
   "cell_type": "code",
   "execution_count": null,
   "id": "8476aeab-6bc9-4d9a-9099-2584a845372e",
   "metadata": {},
   "outputs": [],
   "source": [
    "output=SL.ex_phot_mod('C', tab, conn, size_image_phy=40, snr = 2.5, \n",
    "                      sky_box = [5,5], area_min=10,  area_min_deblend=10,\n",
    "                      band='G', mask_stars='yes',\n",
    "                     roundhi=0.5, roundlo=-0.5, run_auto='yes', plot_model='no')"
   ]
  },
  {
   "cell_type": "code",
   "execution_count": null,
   "id": "6f98dd13-b4bd-47f3-87f5-4b412a3a6b87",
   "metadata": {},
   "outputs": [],
   "source": []
  }
 ],
 "metadata": {
  "kernelspec": {
   "display_name": "Python 3 (ipykernel)",
   "language": "python",
   "name": "python3"
  },
  "language_info": {
   "codemirror_mode": {
    "name": "ipython",
    "version": 3
   },
   "file_extension": ".py",
   "mimetype": "text/x-python",
   "name": "python",
   "nbconvert_exporter": "python",
   "pygments_lexer": "ipython3",
   "version": "3.11.4"
  }
 },
 "nbformat": 4,
 "nbformat_minor": 5
}
