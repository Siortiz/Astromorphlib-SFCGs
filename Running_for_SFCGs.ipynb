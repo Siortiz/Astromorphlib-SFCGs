{
 "cells": [
  {
   "cell_type": "code",
   "execution_count": null,
   "id": "d2c1db7a",
   "metadata": {},
   "outputs": [],
   "source": [
    "#import stat_lib as SL\n",
    "import numpy as np\n",
    "import pandas as pd\n",
    "from astropy.table import Table, Column, vstack\n",
    "import inspect\n",
    "import matplotlib.pyplot as plt\n",
    "import seaborn as sns\n",
    "import matplotlib.cm as cm\n",
    "import matplotlib.colors as mcolors\n",
    "import warnings\n",
    "import scipy.stats as stats\n",
    "from scipy.stats import ks_2samp"
   ]
  },
  {
   "cell_type": "code",
   "execution_count": null,
   "id": "1fb2cc72",
   "metadata": {},
   "outputs": [],
   "source": [
    "sfcg_235 = Table.read('/home/seba/Documents/DECALS/Galaxies/Galaxies_DECALS_235.csv', format='csv')\n",
    "sfcg_235.add_column(Column([5000] * len(sfcg_235), name='radvel'))\n",
    "sfcg_235.rename_column('Gal', 'GAL')\n",
    "sfcg_235['GAL'] = [str(valor) for valor in sfcg_235['GAL']]"
   ]
  },
  {
   "cell_type": "code",
   "execution_count": null,
   "id": "5072e1dc",
   "metadata": {},
   "outputs": [],
   "source": [
    "tabla = Table.read('/home/seba/Documents/MorphoLS/Catalog/Galaxies_DECALS_sex_final.csv')\n",
    "tabla.add_column(Column([5000] * len(tabla), name='radvel'))\n",
    "\n",
    "tabla.add_column(Column(data=range(1, len(tabla) + 1), name='GAL'))\n",
    "\n",
    "tabla['GAL'] = [str(valor) for valor in tabla['GAL']]\n",
    "grouped = tabla.group_by('Group')\n",
    "GL = grouped.groups.keys"
   ]
  },
  {
   "cell_type": "code",
   "execution_count": null,
   "id": "be01bfe5",
   "metadata": {},
   "outputs": [],
   "source": [
    "tabla_cs = Table.read('/home/seba/Documents/MorphoLS/Analysis/Control_Sample_1144.csv')\n",
    "tabla_cs.add_column(Column([5000] * len(tabla_cs), name='radvel'))\n",
    "tabla_cs.rename_column('index', 'GAL')\n",
    "tabla_cs['GAL'] = [str(valor) for valor in tabla_cs['GAL']]"
   ]
  },
  {
   "cell_type": "code",
   "execution_count": null,
   "id": "651ddde8",
   "metadata": {},
   "outputs": [],
   "source": [
    "tabla_ordenada = tabla[np.argsort(tabla['Group'])]\n",
    "tabla_ordenada"
   ]
  },
  {
   "cell_type": "code",
   "execution_count": null,
   "id": "1bd0f5e6",
   "metadata": {},
   "outputs": [],
   "source": [
    "codigo_funcion = inspect.getfile(SL.ex_phot_mod_decals)\n",
    "print(codigo_funcion)"
   ]
  },
  {
   "cell_type": "code",
   "execution_count": null,
   "id": "b56fa515",
   "metadata": {},
   "outputs": [],
   "source": [
    "output=SL.ex_phot_mod_decals(sfcg_235['GAL'][0], sfcg_235, size_image_phy=30, snr = 2.5, \n",
    "                             area_min=0.5, sky_box = [15,15], area_min_deblend=1,deblend='off',\n",
    "                             band='r', roundhi=0.5, roundlo=-0.5, run_auto='yes', threshold=5,aper_center=50,\n",
    "                             show_plot='yes', plot_model='no', mask_stars='yes')"
   ]
  },
  {
   "cell_type": "code",
   "execution_count": null,
   "id": "5d8e1bcf",
   "metadata": {},
   "outputs": [],
   "source": [
    "gal_norun = []\n",
    "for i, gal in enumerate(sfcg_235['GAL'][0:len(sfcg_235)]):\n",
    "    print ('\\n##############')\n",
    "    print (i, gal)\n",
    "    try:\n",
    "        output=SL.ex_phot_mod_decals(gal, sfcg_235, size_image_phy=30, band='g', \n",
    "                                      snr = 2.5, area_min=5, deblend='on', area_min_deblend=5, \n",
    "                                      sky_box = [5,5], \n",
    "                                      mask_stars='yes', roundhi=0.5, roundlo=-0.5, \n",
    "                                      run_auto='yes', show_plot='no', outputfile = 'properties_try.csv')\n",
    "    except:\n",
    "        print ('something was wrong')\n",
    "        gal_norun.append(gal)\n",
    "t = Table.read('properties_try.csv', format='ascii')\n",
    "t.add_column(Column([235]*len(sfcg_235), name='Group'))\n",
    "t.write('properties_try.csv', overwrite=True)"
   ]
  },
  {
   "cell_type": "code",
   "execution_count": null,
   "id": "95bbe829",
   "metadata": {},
   "outputs": [],
   "source": [
    "prop = Table.read('properties_try.csv', format='ascii')\n",
    "prop"
   ]
  },
  {
   "cell_type": "code",
   "execution_count": null,
   "id": "78203614",
   "metadata": {},
   "outputs": [],
   "source": [
    "def no_param(group):\n",
    "    gal_norun = []\n",
    "    tab = tabla[tabla['Group'] == group]\n",
    "    for i, gal in enumerate(tab['GAL'][0:len(tab)]):\n",
    "        print ('\\n##############')\n",
    "        print (i, gal)\n",
    "        try:\n",
    "            output=SL.ex_phot_mod_decals(gal, tab, size_image_phy=30, band='r', \n",
    "                                      snr = 2.5, area_min=5, deblend='on', area_min_deblend=5, \n",
    "                                      sky_box = [5,5], \n",
    "                                      mask_stars='yes', roundhi=0.5, roundlo=-0.5, \n",
    "                                      run_auto='yes', show_plot='yes', outputfile=f'properties_group_{group}.csv')        \n",
    "        except:\n",
    "            print ('something was wrong')\n",
    "            gal_norun.append(gal)\n",
    "    t = Table.read(f'properties_group_{group}.csv', format='ascii')\n",
    "    t.add_column(Column([f'{group}']*len(t), name='Group'))\n",
    "    t.write(f'properties_group_{group}.csv', overwrite=True)"
   ]
  },
  {
   "cell_type": "code",
   "execution_count": null,
   "id": "1912e949",
   "metadata": {},
   "outputs": [],
   "source": [
    "gal_norun = []\n",
    "tab = tabla_cs\n",
    "for i, gal in enumerate(tab['GAL'][0:len(tab)]):\n",
    "    print ('\\n##############')\n",
    "    print (i, gal)\n",
    "    try:\n",
    "        output=SL.ex_phot_mod_decals(gal, tab, size_image_phy=30, band='r', \n",
    "                                    snr = 2.5, area_min=5, deblend='on', area_min_deblend=5, \n",
    "                                    sky_box = [5,5], \n",
    "                                    mask_stars='yes', roundhi=0.5, roundlo=-0.5, \n",
    "                                    run_auto='yes', show_plot='yes', outputfile=f'properties_gal_{gal}.csv')\n",
    "        t = Table.read(f'properties_gal_{gal}.csv', format='ascii')\n",
    "        t.add_column(Column([f'{gal}']*len(t), name='index'))\n",
    "        t.write(f'properties_gal_{gal}.csv', overwrite=True)\n",
    "    except:\n",
    "        print ('something was wrong')\n",
    "        gal_norun.append(gal)"
   ]
  },
  {
   "cell_type": "code",
   "execution_count": null,
   "id": "6e9e2c6f",
   "metadata": {},
   "outputs": [],
   "source": [
    "for g in GL['Group']:\n",
    "    no_param(g)"
   ]
  }
 ],
 "metadata": {
  "kernelspec": {
   "display_name": "Python 3 (ipykernel)",
   "language": "python",
   "name": "python3"
  },
  "language_info": {
   "codemirror_mode": {
    "name": "ipython",
    "version": 3
   },
   "file_extension": ".py",
   "mimetype": "text/x-python",
   "name": "python",
   "nbconvert_exporter": "python",
   "pygments_lexer": "ipython3",
   "version": "3.11.4"
  }
 },
 "nbformat": 4,
 "nbformat_minor": 5
}
